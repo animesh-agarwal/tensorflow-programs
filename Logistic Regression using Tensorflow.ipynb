{
 "cells": [
  {
   "cell_type": "code",
   "execution_count": 1,
   "metadata": {},
   "outputs": [],
   "source": [
    "import tensorflow as tf\n",
    "import numpy as np\n",
    "from datetime import datetime\n",
    "from tensorflow.examples.tutorials.mnist import input_data"
   ]
  },
  {
   "cell_type": "code",
   "execution_count": 2,
   "metadata": {},
   "outputs": [
    {
     "name": "stdout",
     "output_type": "stream",
     "text": [
      "WARNING:tensorflow:From <ipython-input-2-f7df3279de6a>:1: read_data_sets (from tensorflow.contrib.learn.python.learn.datasets.mnist) is deprecated and will be removed in a future version.\n",
      "Instructions for updating:\n",
      "Please use alternatives such as official/mnist/dataset.py from tensorflow/models.\n",
      "WARNING:tensorflow:From c:\\users\\animesh\\appdata\\local\\programs\\python\\python35\\lib\\site-packages\\tensorflow\\contrib\\learn\\python\\learn\\datasets\\mnist.py:260: maybe_download (from tensorflow.contrib.learn.python.learn.datasets.base) is deprecated and will be removed in a future version.\n",
      "Instructions for updating:\n",
      "Please write your own downloading logic.\n",
      "WARNING:tensorflow:From c:\\users\\animesh\\appdata\\local\\programs\\python\\python35\\lib\\site-packages\\tensorflow\\contrib\\learn\\python\\learn\\datasets\\mnist.py:262: extract_images (from tensorflow.contrib.learn.python.learn.datasets.mnist) is deprecated and will be removed in a future version.\n",
      "Instructions for updating:\n",
      "Please use tf.data to implement this functionality.\n",
      "Extracting MNIST/data\\train-images-idx3-ubyte.gz\n",
      "WARNING:tensorflow:From c:\\users\\animesh\\appdata\\local\\programs\\python\\python35\\lib\\site-packages\\tensorflow\\contrib\\learn\\python\\learn\\datasets\\mnist.py:267: extract_labels (from tensorflow.contrib.learn.python.learn.datasets.mnist) is deprecated and will be removed in a future version.\n",
      "Instructions for updating:\n",
      "Please use tf.data to implement this functionality.\n",
      "Extracting MNIST/data\\train-labels-idx1-ubyte.gz\n",
      "WARNING:tensorflow:From c:\\users\\animesh\\appdata\\local\\programs\\python\\python35\\lib\\site-packages\\tensorflow\\contrib\\learn\\python\\learn\\datasets\\mnist.py:110: dense_to_one_hot (from tensorflow.contrib.learn.python.learn.datasets.mnist) is deprecated and will be removed in a future version.\n",
      "Instructions for updating:\n",
      "Please use tf.one_hot on tensors.\n",
      "Extracting MNIST/data\\t10k-images-idx3-ubyte.gz\n",
      "Extracting MNIST/data\\t10k-labels-idx1-ubyte.gz\n",
      "WARNING:tensorflow:From c:\\users\\animesh\\appdata\\local\\programs\\python\\python35\\lib\\site-packages\\tensorflow\\contrib\\learn\\python\\learn\\datasets\\mnist.py:290: DataSet.__init__ (from tensorflow.contrib.learn.python.learn.datasets.mnist) is deprecated and will be removed in a future version.\n",
      "Instructions for updating:\n",
      "Please use alternatives such as official/mnist/dataset.py from tensorflow/models.\n"
     ]
    }
   ],
   "source": [
    "mnist = input_data.read_data_sets(\"MNIST/data\", one_hot=True)"
   ]
  },
  {
   "cell_type": "code",
   "execution_count": 3,
   "metadata": {},
   "outputs": [],
   "source": [
    "now = datetime.utcnow().strftime(\"%Y%m%d%H%M$S\")\n",
    "root_dir = \"logistic_regression_logs\"\n",
    "log_dir = \"{}/run-{}\".format(root_dir,now)"
   ]
  },
  {
   "cell_type": "code",
   "execution_count": 4,
   "metadata": {},
   "outputs": [],
   "source": [
    "tf.reset_default_graph()\n",
    "X = tf.placeholder(dtype=tf.float32, shape=([None,784]))\n",
    "y = tf.placeholder(dtype=tf.float32, shape=[None,10])\n",
    "W = tf.Variable(tf.random_uniform([784,10]))\n",
    "b = tf.Variable(tf.random_uniform([10]))\n",
    "\n",
    "with tf.name_scope(\"loss_op\") as scope:\n",
    "    y_pred = tf.nn.softmax(tf.matmul(X, W) + b) \n",
    "    loss = tf.reduce_mean(tf.square(y_pred-y))\n",
    "    \n",
    "train_op = tf.train.GradientDescentOptimizer(learning_rate=0.5).minimize(loss)\n",
    "\n",
    "with tf.name_scope(\"accuracy_op\") as scope:\n",
    "    predictions = tf.equal(tf.argmax(y_pred,1), tf.argmax(y,1))\n",
    "    accuracy = tf.reduce_mean(tf.cast(predictions, tf.float32))\n",
    "\n",
    "loss_summary = tf.summary.scalar(\"Loss\", loss)\n",
    "accuracy_summary = tf.summary.scalar(\"Accuracy\", accuracy)\n",
    "file_writer = tf.summary.FileWriter(log_dir, tf.get_default_graph())"
   ]
  },
  {
   "cell_type": "code",
   "execution_count": 5,
   "metadata": {},
   "outputs": [
    {
     "name": "stdout",
     "output_type": "stream",
     "text": [
      "Training complete\n",
      "Compute test accuracy\n",
      "0.9140625\n"
     ]
    }
   ],
   "source": [
    "n_iters = 10000\n",
    "batch_size=64\n",
    "with tf.Session() as sess:\n",
    "    sess.run(tf.global_variables_initializer())\n",
    "    for iter in range(n_iters):\n",
    "        batch = mnist.train.next_batch(batch_size)\n",
    "        features = batch[0]\n",
    "        labels = batch[1]\n",
    "        _ = sess.run(train_op, feed_dict={X:features, y:labels})\n",
    "        if n_iters % 500 == 0:\n",
    "            loss, accuracy_value = sess.run([loss_summary,accuracy_summary], feed_dict={X:features, y:labels})\n",
    "            file_writer.add_summary(loss,iter)\n",
    "            file_writer.add_summary(accuracy_value,iter)\n",
    "    \n",
    "    print(\"Training complete\")\n",
    "    print(\"Compute test accuracy\")\n",
    "    \n",
    "    test_batch = mnist.test.next_batch(batch_size*2)\n",
    "    test_accuracy = sess.run(accuracy, feed_dict={X:test_batch[0], y:test_batch[1]})\n",
    "    print(test_accuracy)\n",
    "        "
   ]
  }
 ],
 "metadata": {
  "kernelspec": {
   "display_name": "Python 3",
   "language": "python",
   "name": "python3"
  },
  "language_info": {
   "codemirror_mode": {
    "name": "ipython",
    "version": 3
   },
   "file_extension": ".py",
   "mimetype": "text/x-python",
   "name": "python",
   "nbconvert_exporter": "python",
   "pygments_lexer": "ipython3",
   "version": "3.5.4"
  }
 },
 "nbformat": 4,
 "nbformat_minor": 2
}
