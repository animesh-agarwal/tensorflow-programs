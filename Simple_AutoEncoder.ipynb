{
  "nbformat": 4,
  "nbformat_minor": 0,
  "metadata": {
    "colab": {
      "name": "Simple AutoEncoder.ipynb",
      "version": "0.3.2",
      "provenance": []
    },
    "kernelspec": {
      "name": "python3",
      "display_name": "Python 3"
    },
    "accelerator": "GPU"
  },
  "cells": [
    {
      "cell_type": "markdown",
      "metadata": {
        "id": "nKkyZpGXk45j",
        "colab_type": "text"
      },
      "source": [
        "## Import Libraries"
      ]
    },
    {
      "cell_type": "code",
      "metadata": {
        "id": "sgJisTq1tdXa",
        "colab_type": "code",
        "colab": {}
      },
      "source": [
        "import numpy as np\n",
        "import tensorflow as tf\n",
        "import matplotlib.pyplot as plt\n",
        "import os"
      ],
      "execution_count": 0,
      "outputs": []
    },
    {
      "cell_type": "markdown",
      "metadata": {
        "id": "ruZh6tfNlClN",
        "colab_type": "text"
      },
      "source": [
        "## Downloading the data"
      ]
    },
    {
      "cell_type": "code",
      "metadata": {
        "id": "CZUJ4Vw0wlfT",
        "colab_type": "code",
        "colab": {}
      },
      "source": [
        "from tensorflow.examples.tutorials.mnist import input_data\n",
        "\n",
        "# we don't need the validation data for this exercise, we can pass validation_size=0\n",
        "mnist = input_data.read_data_sets('MNIST/data', validation_size=0)\n",
        "\n",
        "# extract the images that will be used for training the autoencoder\n",
        "train_images = mnist.train.images"
      ],
      "execution_count": 0,
      "outputs": []
    },
    {
      "cell_type": "markdown",
      "metadata": {
        "id": "mcvWC7EnmIu1",
        "colab_type": "text"
      },
      "source": [
        "## Exploratory Data Analysis"
      ]
    },
    {
      "cell_type": "code",
      "metadata": {
        "id": "YZVkdufGxA_w",
        "colab_type": "code",
        "outputId": "87b44fb3-556e-48ba-c587-469a459a5c7b",
        "colab": {
          "base_uri": "https://localhost:8080/",
          "height": 302
        }
      },
      "source": [
        "# Let's see how many images are there in the training set\n",
        "print(\"Shape of train images {}\".format(train_images.shape))\n",
        "\n",
        "# let's check a sample image\n",
        "sample_image = train_images[1]\n",
        "plt.imshow(sample_image.reshape(28,28), cmap=\"Greys_r\")"
      ],
      "execution_count": 3,
      "outputs": [
        {
          "output_type": "stream",
          "text": [
            "Shape of train images (60000, 784)\n"
          ],
          "name": "stdout"
        },
        {
          "output_type": "execute_result",
          "data": {
            "text/plain": [
              "<matplotlib.image.AxesImage at 0x7f7ff67eecc0>"
            ]
          },
          "metadata": {
            "tags": []
          },
          "execution_count": 3
        },
        {
          "output_type": "display_data",
          "data": {
            "image/png": "[encoded data removed]",
            "text/plain": [
              "<Figure size 432x288 with 1 Axes>"
            ]
          },
          "metadata": {
            "tags": []
          }
        }
      ]
    },
    {
      "cell_type": "markdown",
      "metadata": {
        "id": "oPylvP_El9qM",
        "colab_type": "text"
      },
      "source": [
        "## Helper Functions"
      ]
    },
    {
      "cell_type": "code",
      "metadata": {
        "id": "sllbxcLX2gmV",
        "colab_type": "code",
        "colab": {}
      },
      "source": [
        "def plot_images(original, reconstructed):\n",
        "  fig, axes = plt.subplots(nrows=2, ncols=10, sharex=True, sharey=True, figsize=(12,4))\n",
        "\n",
        "  for images, row in zip([original, reconstructed], axes):\n",
        "      for img, ax in zip(images, row):\n",
        "          ax.imshow(img.reshape((28, 28)), cmap='Greys_r')\n",
        "          ax.get_xaxis().set_visible(False)\n",
        "          ax.get_yaxis().set_visible(False)\n",
        "\n",
        "  fig.tight_layout(pad=0.1)"
      ],
      "execution_count": 0,
      "outputs": []
    },
    {
      "cell_type": "markdown",
      "metadata": {
        "id": "tG0N4HmptR7o",
        "colab_type": "text"
      },
      "source": [
        "## Define the Placeholders"
      ]
    },
    {
      "cell_type": "code",
      "metadata": {
        "id": "TScLYPCgtTFd",
        "colab_type": "code",
        "colab": {}
      },
      "source": [
        "image_size = mnist.train.images.shape[1]\n",
        "\n",
        "inputs = tf.placeholder(dtype=tf.float32, shape=(None, image_size), name='inputs')\n",
        "targets = tf.placeholder(dtype=tf.float32, shape=(None, image_size), name='targets')"
      ],
      "execution_count": 0,
      "outputs": []
    },
    {
      "cell_type": "markdown",
      "metadata": {
        "id": "2HSXc8bip0_d",
        "colab_type": "text"
      },
      "source": [
        "## Define the Model\n",
        " \n",
        " One hidden layer with relu activation and an output layer with sigmoid activation"
      ]
    },
    {
      "cell_type": "code",
      "metadata": {
        "id": "3qclv9U2627a",
        "colab_type": "code",
        "colab": {}
      },
      "source": [
        "def model(inputs, encoding_dim, output_dim, activation=tf.nn.relu):\n",
        "  \n",
        "  #enocder netowrk\n",
        "  encoded = tf.contrib.layers.fully_connected(inputs, encoding_dim, activation_fn=activation)\n",
        "  #output layer\n",
        "  logits = tf.contrib.layers.fully_connected(encoded, output_dim, activation_fn=None)\n",
        "  \n",
        "  #final output\n",
        "  decoded = tf.nn.sigmoid(logits, name='outputs')\n",
        "  \n",
        "  return encoded, decoded, logits"
      ],
      "execution_count": 0,
      "outputs": []
    },
    {
      "cell_type": "markdown",
      "metadata": {
        "id": "RD0IVL7OrS65",
        "colab_type": "text"
      },
      "source": [
        "## Define the Operations"
      ]
    },
    {
      "cell_type": "code",
      "metadata": {
        "id": "KF7rFu9frdJv",
        "colab_type": "code",
        "colab": {}
      },
      "source": [
        "def create_train_operations(logits, targets, learning_rate):\n",
        "   \n",
        "    #compute the loss\n",
        "    loss = tf.reduce_mean(tf.nn.sigmoid_cross_entropy_with_logits(logits=logits, labels=targets))\n",
        "    #define the training operation\n",
        "    train_op = tf.train.AdamOptimizer(learning_rate=learning_rate).minimize(loss)\n",
        "    \n",
        "    return loss, train_op"
      ],
      "execution_count": 0,
      "outputs": []
    },
    {
      "cell_type": "markdown",
      "metadata": {
        "id": "LWuYFdE5xiXt",
        "colab_type": "text"
      },
      "source": [
        "## Train the model and plot the reconstructed images"
      ]
    },
    {
      "cell_type": "code",
      "metadata": {
        "id": "jwI-z4ybxleX",
        "colab_type": "code",
        "colab": {}
      },
      "source": [
        "def train_model(inputs, targets, n_epochs, batch_size, encoding_dim, output_dim, learning_rate):\n",
        "  encoded, decoded, logits = model(inputs, encoding_dim, output_dim)\n",
        "  loss, training_op = create_train_operations(logits, targets, learning_rate)\n",
        "  with tf.Session() as sess:\n",
        "    sess.run(tf.global_variables_initializer())\n",
        "\n",
        "    for epoch in range(n_epochs):\n",
        "      epoch_loss = 0\n",
        "      for batch in range(mnist.train.num_examples//batch_size):\n",
        "        images, labels = mnist.train.next_batch(batch_size)\n",
        "        train_loss, _ = sess.run([loss, training_op], feed_dict = {inputs:images, targets:images})\n",
        "        epoch_loss += train_loss\n",
        "      print(\"Epoch {}/{} : Loss {:.3f}\".format(epoch+1, n_epochs, epoch_loss))\n",
        "\n",
        "    print(\"Training is done\\n\")\n",
        "    \n",
        "    print(\"Plotting the reconstructed images\")\n",
        "    test_images = mnist.test.images[:10]\n",
        "    reconstructed = sess.run(decoded, feed_dict={inputs: test_images})\n",
        "    plot_images(test_images, reconstructed)"
      ],
      "execution_count": 0,
      "outputs": []
    },
    {
      "cell_type": "markdown",
      "metadata": {
        "id": "8Tg9Buj0tkpM",
        "colab_type": "text"
      },
      "source": [
        "## Define the Model Parameters"
      ]
    },
    {
      "cell_type": "code",
      "metadata": {
        "id": "fuPCFugFtoSd",
        "colab_type": "code",
        "colab": {}
      },
      "source": [
        "n_epochs = 20\n",
        "batch_size = 200\n",
        "encoding_dim = 32\n",
        "output_dim = image_size\n",
        "learning_rate = 0.001"
      ],
      "execution_count": 0,
      "outputs": []
    },
    {
      "cell_type": "markdown",
      "metadata": {
        "id": "0dRzk-12tuz8",
        "colab_type": "text"
      },
      "source": [
        "## Run the Model\n"
      ]
    },
    {
      "cell_type": "code",
      "metadata": {
        "id": "0Yxs-YOwyOJ2",
        "colab_type": "code",
        "colab": {
          "base_uri": "https://localhost:8080/",
          "height": 696
        },
        "outputId": "81259802-b5c1-48f8-a568-676bf6ad6e05"
      },
      "source": [
        "train_model(inputs = inputs, \n",
        "            targets = targets,\n",
        "            n_epochs = n_epochs, \n",
        "            batch_size = batch_size,\n",
        "            encoding_dim = encoding_dim,\n",
        "            output_dim = output_dim,\n",
        "            learning_rate = learning_rate)"
      ],
      "execution_count": 10,
      "outputs": [
        {
          "output_type": "stream",
          "text": [
            "W0622 20:27:57.178109 140189032003456 deprecation.py:323] From /usr/local/lib/python3.6/dist-packages/tensorflow/python/ops/nn_impl.py:180: add_dispatch_support.<locals>.wrapper (from tensorflow.python.ops.array_ops) is deprecated and will be removed in a future version.\n",
            "Instructions for updating:\n",
            "Use tf.where in 2.0, which has the same broadcast rule as np.where\n"
          ],
          "name": "stderr"
        },
        {
          "output_type": "stream",
          "text": [
            "Epoch 1/20 : Loss 76.106\n",
            "Epoch 2/20 : Loss 48.067\n",
            "Epoch 3/20 : Loss 40.531\n",
            "Epoch 4/20 : Loss 36.038\n",
            "Epoch 5/20 : Loss 33.300\n",
            "Epoch 6/20 : Loss 31.511\n",
            "Epoch 7/20 : Loss 30.282\n",
            "Epoch 8/20 : Loss 29.437\n",
            "Epoch 9/20 : Loss 28.898\n",
            "Epoch 10/20 : Loss 28.590\n",
            "Epoch 11/20 : Loss 28.402\n",
            "Epoch 12/20 : Loss 28.287\n",
            "Epoch 13/20 : Loss 28.204\n",
            "Epoch 14/20 : Loss 28.145\n",
            "Epoch 15/20 : Loss 28.099\n",
            "Epoch 16/20 : Loss 28.058\n",
            "Epoch 17/20 : Loss 28.029\n",
            "Epoch 18/20 : Loss 28.006\n",
            "Epoch 19/20 : Loss 27.983\n",
            "Epoch 20/20 : Loss 27.958\n",
            "Training is done\n",
            "\n",
            "Plotting the reconstructed images\n"
          ],
          "name": "stdout"
        },
        {
          "output_type": "display_data",
          "data": {
            "image/png": "[encoded data removed]",
            "text/plain": [
              "<Figure size 864x288 with 20 Axes>"
            ]
          },
          "metadata": {
            "tags": []
          }
        }
      ]
    }
  ]
}