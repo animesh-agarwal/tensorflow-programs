{
  "nbformat": 4,
  "nbformat_minor": 0,
  "metadata": {
    "colab": {
      "name": "Denoising Convolutional AutoEncoders.ipynb",
      "version": "0.3.2",
      "provenance": []
    },
    "kernelspec": {
      "name": "python3",
      "display_name": "Python 3"
    },
    "accelerator": "GPU"
  },
  "cells": [
    {
      "cell_type": "markdown",
      "metadata": {
        "id": "L4i1zmaxyn2d",
        "colab_type": "text"
      },
      "source": [
        "## Importing Libraries"
      ]
    },
    {
      "cell_type": "code",
      "metadata": {
        "id": "ZYv4AN3z0ac4",
        "colab_type": "code",
        "colab": {}
      },
      "source": [
        "import numpy as np\n",
        "import matplotlib.pyplot as plt\n",
        "import tensorflow as tf"
      ],
      "execution_count": 0,
      "outputs": []
    },
    {
      "cell_type": "markdown",
      "metadata": {
        "id": "cypHxSyVyrRj",
        "colab_type": "text"
      },
      "source": [
        "## Download the data"
      ]
    },
    {
      "cell_type": "code",
      "metadata": {
        "id": "mzvdVvR60nrX",
        "colab_type": "code",
        "colab": {}
      },
      "source": [
        "from tensorflow.examples.tutorials.mnist import input_data\n",
        "mnist = input_data.read_data_sets('MNIST_data', validation_size=0)\n",
        "train_images = mnist.train.images\n",
        "test_images = mnist.test.images"
      ],
      "execution_count": 0,
      "outputs": []
    },
    {
      "cell_type": "markdown",
      "metadata": {
        "id": "HWt60p5FyuoL",
        "colab_type": "text"
      },
      "source": [
        "## Helper Functions\n",
        "Function to plot the original and the reconstructed images"
      ]
    },
    {
      "cell_type": "code",
      "metadata": {
        "id": "A5lFn2W-1AP7",
        "colab_type": "code",
        "colab": {}
      },
      "source": [
        "def plot_images(original, reconstructed):\n",
        "  \n",
        "  fig, axes = plt.subplots(nrows=2, ncols=10, sharex=True, sharey=True, figsize=(12,4))\n",
        "  \n",
        "  for images, axes in zip([original, reconstructed], axes):\n",
        "    for image, ax in zip(images, axes):\n",
        "      ax.imshow(image.reshape(28,28), cmap=\"Greys_r\")\n",
        "      ax.get_xaxis().set_visible(False)\n",
        "      ax.get_yaxis().set_visible(False)\n",
        "      \n",
        "  fig.tight_layout(pad=0.1)"
      ],
      "execution_count": 0,
      "outputs": []
    },
    {
      "cell_type": "markdown",
      "metadata": {
        "id": "Gknc53LQ0QTu",
        "colab_type": "text"
      },
      "source": [
        "## Define the placeholders"
      ]
    },
    {
      "cell_type": "code",
      "metadata": {
        "id": "PvE3vKkq0T75",
        "colab_type": "code",
        "colab": {}
      },
      "source": [
        "def get_placeholders(image_size, n_channels):\n",
        "  inputs = tf.placeholder(dtype=tf.float32, shape=(None, image_size, image_size,n_channels), name='inputs')\n",
        "  targets = tf.placeholder(dtype=tf.float32, shape=(None, image_size, image_size,n_channels), name='targets')\n",
        "  return inputs, targets"
      ],
      "execution_count": 0,
      "outputs": []
    },
    {
      "cell_type": "markdown",
      "metadata": {
        "id": "uPujjMEKzDvO",
        "colab_type": "text"
      },
      "source": [
        "## Define the model"
      ]
    },
    {
      "cell_type": "code",
      "metadata": {
        "id": "qGJIhPuzEs_b",
        "colab_type": "code",
        "colab": {}
      },
      "source": [
        "def encoder_decoder_network(X):\n",
        "  \n",
        "  \n",
        "  W1 = tf.get_variable(\"W1\", shape=[3,3,1,32], initializer=tf.contrib.layers.xavier_initializer(seed=0))\n",
        "  conv1 = tf.nn.conv2d(X, W1, strides=[1,1,1,1], padding='SAME')\n",
        "  relu1 = tf.nn.relu(conv1)\n",
        "  pool1 = tf.nn.max_pool(relu1, ksize=[1,2,2,1], strides=[1,2,2,1], padding='SAME')\n",
        "  \n",
        "  \n",
        "  W2 = tf.get_variable(\"W2\", shape=[3,3,32,32], initializer=tf.contrib.layers.xavier_initializer(seed=0))\n",
        "  conv2 = tf.nn.conv2d(pool1, W2, strides=[1,1,1,1], padding='SAME')\n",
        "  relu2 = tf.nn.relu(conv2)\n",
        "  pool2 = tf.nn.max_pool(relu2, ksize=[1,2,2,1], strides=[1,2,2,1], padding='SAME')\n",
        "  \n",
        "  W3 = tf.get_variable(\"W3\", shape=[3,3,32,16], initializer=tf.contrib.layers.xavier_initializer(seed=0))\n",
        "  conv3 = tf.nn.conv2d(pool2, W3, strides=[1,1,1,1], padding='SAME')\n",
        "  relu3 = tf.nn.relu(conv3)\n",
        "  pool3 = tf.nn.max_pool(relu3, ksize=[1,2,2,1], strides=[1,2,2,1], padding='SAME')\n",
        "  encoded = pool3\n",
        "  \n",
        "  \n",
        "  upsample1 = tf.image.resize_nearest_neighbor(encoded, (7,7))\n",
        "  #7*7*8\n",
        "  W4 = tf.get_variable(\"W4\", shape=[3,3,16,16], initializer=tf.contrib.layers.xavier_initializer(seed=0))\n",
        "  conv4 = tf.nn.conv2d(upsample1, W4, strides=[1,1,1,1], padding='SAME')\n",
        "  relu4 = tf.nn.relu(conv4)\n",
        "  \n",
        "  upsample2 = tf.image.resize_nearest_neighbor(relu4, (14,14))\n",
        "  # 14*14*8\n",
        "  W5 = tf.get_variable(\"W5\", shape=[3,3,16,32], initializer=tf.contrib.layers.xavier_initializer(seed=0))\n",
        "  conv5 = tf.nn.conv2d(upsample2, W5, strides=[1,1,1,1], padding='SAME')\n",
        "  relu5 = tf.nn.relu(conv5)\n",
        "  \n",
        "  # 28*28*8\n",
        "  upsample3 = tf.image.resize_nearest_neighbor(relu5, (28,28))\n",
        "  \n",
        "  W6 = tf.get_variable(\"W6\", shape=[3,3,32,32], initializer=tf.contrib.layers.xavier_initializer(seed=0))\n",
        "  conv6 = tf.nn.conv2d(upsample3, W6, strides=[1,1,1,1], padding='SAME')\n",
        "  relu6 = tf.nn.relu(conv6)\n",
        "  \n",
        "  W7 = tf.get_variable(\"W7\", shape=[3,3,32,1], initializer=tf.contrib.layers.xavier_initializer(seed=0))\n",
        "  conv7 = tf.nn.conv2d(relu6, W7, strides=[1,1,1,1], padding='SAME')\n",
        "  \n",
        "  logits = conv7\n",
        "  \n",
        "  decoded = tf.nn.sigmoid(logits)\n",
        "  \n",
        "  return encoded, decoded, logits"
      ],
      "execution_count": 0,
      "outputs": []
    },
    {
      "cell_type": "markdown",
      "metadata": {
        "id": "v8rAtEdl1nhE",
        "colab_type": "text"
      },
      "source": [
        "## Define the training operations"
      ]
    },
    {
      "cell_type": "code",
      "metadata": {
        "id": "UaJi0X5l1rbY",
        "colab_type": "code",
        "colab": {}
      },
      "source": [
        "def get_train_operations(logits, targets, learning_rate):\n",
        "  loss = tf.reduce_mean(tf.nn.sigmoid_cross_entropy_with_logits(logits=logits, labels=targets))\n",
        "  training_op = tf.train.AdamOptimizer(learning_rate= learning_rate).minimize(loss)\n",
        "  return loss, training_op"
      ],
      "execution_count": 0,
      "outputs": []
    },
    {
      "cell_type": "markdown",
      "metadata": {
        "id": "Tbd5Wq0F2KHV",
        "colab_type": "text"
      },
      "source": [
        "## Train the model and plot reconstructed images"
      ]
    },
    {
      "cell_type": "code",
      "metadata": {
        "id": "OKWIZ-lx2OAs",
        "colab_type": "code",
        "colab": {}
      },
      "source": [
        "def train_model(epochs, batch_size, image_size, n_channels, learning_rate, noise_factor):\n",
        "  tf.reset_default_graph()\n",
        "  inputs,targets = get_placeholders(image_size, n_channels)\n",
        "  encoded, decoded, logits = encoder_decoder_network(inputs)\n",
        "  loss, training_op = get_train_operations(logits, targets, learning_rate)\n",
        "  with tf.Session() as sess:\n",
        "    sess.run(tf.global_variables_initializer())\n",
        "    for epoch in range(epochs):\n",
        "      epoch_loss = 0\n",
        "      for batch in range(mnist.train.num_examples//batch_size):\n",
        "        data = mnist.train.next_batch(batch_size)[0]\n",
        "        data = data.reshape(-1,image_size,image_size,n_channels)\n",
        "        noisy_images = noise_factor * np.random.randn(*data.shape) + data\n",
        "        batch_loss, _ = sess.run([loss, training_op], feed_dict = {inputs:noisy_images, targets:data})\n",
        "        epoch_loss += batch_loss\n",
        "      print(\"Epoch: {}/{},  Loss: {:.3f}\".format(epoch+1, epochs, epoch_loss))\n",
        "    print(\"Training over\\n\")\n",
        "    print(\"Reconstructing test images from encoded images\")\n",
        "\n",
        "\n",
        "    test_images = mnist.test.images[:10]\n",
        "    test_images = test_images.reshape(-1,image_size,image_size,n_channels)\n",
        "    noisy_test_images = test_images + noise_factor *np.random.randn(*test_images.shape)\n",
        "    reconstructed = sess.run(decoded, feed_dict = {inputs:noisy_test_images})\n",
        "    plot_images(noisy_test_images, reconstructed)"
      ],
      "execution_count": 0,
      "outputs": []
    },
    {
      "cell_type": "markdown",
      "metadata": {
        "id": "ryaUZ9pa2-H0",
        "colab_type": "text"
      },
      "source": [
        "## Define the model parameters"
      ]
    },
    {
      "cell_type": "code",
      "metadata": {
        "id": "XcWO5F_KODjY",
        "colab_type": "code",
        "colab": {}
      },
      "source": [
        "epochs = 50\n",
        "batch_size = 200\n",
        "learning_rate = 0.001\n",
        "n_channels =1\n",
        "noise_factor = 0.5 \n",
        "image_size = 28"
      ],
      "execution_count": 0,
      "outputs": []
    },
    {
      "cell_type": "markdown",
      "metadata": {
        "id": "a5SBYJ4i3M-R",
        "colab_type": "text"
      },
      "source": [
        "## Run the model"
      ]
    },
    {
      "cell_type": "code",
      "metadata": {
        "id": "EI6aX5Jp3RV0",
        "colab_type": "code",
        "colab": {
          "base_uri": "https://localhost:8080/",
          "height": 1200
        },
        "outputId": "f149c8c3-2ea6-40e0-92f7-1c8c7b1ae185"
      },
      "source": [
        "train_model(epochs = epochs,\n",
        "           batch_size=batch_size,\n",
        "           learning_rate=learning_rate,\n",
        "           n_channels = n_channels,\n",
        "            \n",
        "           noise_factor = noise_factor,\n",
        "           image_size=image_size)"
      ],
      "execution_count": 9,
      "outputs": [
        {
          "output_type": "stream",
          "text": [
            "W0623 05:53:41.891494 140225355773824 deprecation.py:323] From /usr/local/lib/python3.6/dist-packages/tensorflow/python/ops/nn_impl.py:180: add_dispatch_support.<locals>.wrapper (from tensorflow.python.ops.array_ops) is deprecated and will be removed in a future version.\n",
            "Instructions for updating:\n",
            "Use tf.where in 2.0, which has the same broadcast rule as np.where\n"
          ],
          "name": "stderr"
        },
        {
          "output_type": "stream",
          "text": [
            "Epoch: 1/50,  Loss: 67.170\n",
            "Epoch: 2/50,  Loss: 45.659\n",
            "Epoch: 3/50,  Loss: 40.792\n",
            "Epoch: 4/50,  Loss: 38.596\n",
            "Epoch: 5/50,  Loss: 37.282\n",
            "Epoch: 6/50,  Loss: 36.432\n",
            "Epoch: 7/50,  Loss: 35.664\n",
            "Epoch: 8/50,  Loss: 35.093\n",
            "Epoch: 9/50,  Loss: 34.613\n",
            "Epoch: 10/50,  Loss: 34.282\n",
            "Epoch: 11/50,  Loss: 33.954\n",
            "Epoch: 12/50,  Loss: 33.663\n",
            "Epoch: 13/50,  Loss: 33.425\n",
            "Epoch: 14/50,  Loss: 33.194\n",
            "Epoch: 15/50,  Loss: 33.025\n",
            "Epoch: 16/50,  Loss: 32.827\n",
            "Epoch: 17/50,  Loss: 32.635\n",
            "Epoch: 18/50,  Loss: 32.498\n",
            "Epoch: 19/50,  Loss: 32.380\n",
            "Epoch: 20/50,  Loss: 32.229\n",
            "Epoch: 21/50,  Loss: 32.191\n",
            "Epoch: 22/50,  Loss: 32.003\n",
            "Epoch: 23/50,  Loss: 31.924\n",
            "Epoch: 24/50,  Loss: 31.833\n",
            "Epoch: 25/50,  Loss: 31.769\n",
            "Epoch: 26/50,  Loss: 31.651\n",
            "Epoch: 27/50,  Loss: 31.582\n",
            "Epoch: 28/50,  Loss: 31.515\n",
            "Epoch: 29/50,  Loss: 31.425\n",
            "Epoch: 30/50,  Loss: 31.383\n",
            "Epoch: 31/50,  Loss: 31.344\n",
            "Epoch: 32/50,  Loss: 31.221\n",
            "Epoch: 33/50,  Loss: 31.187\n",
            "Epoch: 34/50,  Loss: 31.170\n",
            "Epoch: 35/50,  Loss: 31.107\n",
            "Epoch: 36/50,  Loss: 31.066\n",
            "Epoch: 37/50,  Loss: 31.005\n",
            "Epoch: 38/50,  Loss: 30.963\n",
            "Epoch: 39/50,  Loss: 30.924\n",
            "Epoch: 40/50,  Loss: 30.895\n",
            "Epoch: 41/50,  Loss: 30.898\n",
            "Epoch: 42/50,  Loss: 30.815\n",
            "Epoch: 43/50,  Loss: 30.828\n",
            "Epoch: 44/50,  Loss: 30.733\n",
            "Epoch: 45/50,  Loss: 30.733\n",
            "Epoch: 46/50,  Loss: 30.708\n",
            "Epoch: 47/50,  Loss: 30.665\n",
            "Epoch: 48/50,  Loss: 30.663\n",
            "Epoch: 49/50,  Loss: 30.588\n",
            "Epoch: 50/50,  Loss: 30.605\n",
            "Training over\n",
            "\n",
            "Reconstructing test images from encoded images\n"
          ],
          "name": "stdout"
        },
        {
          "output_type": "display_data",
          "data": {
            "image/png": "[encoded data removed]",
            "text/plain": [
              "<Figure size 864x288 with 20 Axes>"
            ]
          },
          "metadata": {
            "tags": []
          }
        }
      ]
    }
  ]
}