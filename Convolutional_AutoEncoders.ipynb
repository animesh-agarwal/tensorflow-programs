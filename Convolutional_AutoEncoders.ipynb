{
  "nbformat": 4,
  "nbformat_minor": 0,
  "metadata": {
    "colab": {
      "name": "Convolutional AutoEncoders.ipynb",
      "version": "0.3.2",
      "provenance": []
    },
    "kernelspec": {
      "name": "python3",
      "display_name": "Python 3"
    },
    "accelerator": "GPU"
  },
  "cells": [
    {
      "cell_type": "markdown",
      "metadata": {
        "id": "U9mLpQLN7l_b",
        "colab_type": "text"
      },
      "source": [
        "## Import Libraries"
      ]
    },
    {
      "cell_type": "code",
      "metadata": {
        "id": "ZYv4AN3z0ac4",
        "colab_type": "code",
        "colab": {}
      },
      "source": [
        "import numpy as np\n",
        "import matplotlib.pyplot as plt\n",
        "import tensorflow as tf"
      ],
      "execution_count": 0,
      "outputs": []
    },
    {
      "cell_type": "markdown",
      "metadata": {
        "id": "1X02YuK87qfR",
        "colab_type": "text"
      },
      "source": [
        "## Download the Data"
      ]
    },
    {
      "cell_type": "code",
      "metadata": {
        "id": "mzvdVvR60nrX",
        "colab_type": "code",
        "colab": {}
      },
      "source": [
        "from tensorflow.examples.tutorials.mnist import input_data\n",
        "mnist = input_data.read_data_sets('MNIST_data', validation_size=0)\n",
        "train_images = mnist.train.images\n",
        "test_images = mnist.test.images"
      ],
      "execution_count": 0,
      "outputs": []
    },
    {
      "cell_type": "markdown",
      "metadata": {
        "id": "HLYAhjXR8F9G",
        "colab_type": "text"
      },
      "source": [
        "## Helper Functions\n",
        "\n",
        "Plot the original and the reconstructed image"
      ]
    },
    {
      "cell_type": "code",
      "metadata": {
        "id": "A5lFn2W-1AP7",
        "colab_type": "code",
        "colab": {}
      },
      "source": [
        "def plot_images(original, reconstructed):\n",
        "  \n",
        "  fig, axes = plt.subplots(nrows=2, ncols=10, sharex=True, sharey=True, figsize=(12,4))\n",
        "  \n",
        "  for images, axes in zip([original, reconstructed], axes):\n",
        "    for image, ax in zip(images, axes):\n",
        "      ax.imshow(image.reshape(28,28), cmap=\"Greys_r\")\n",
        "      ax.get_xaxis().set_visible(False)\n",
        "      ax.get_yaxis().set_visible(False)\n",
        "      \n",
        "  fig.tight_layout(pad=0.1)"
      ],
      "execution_count": 0,
      "outputs": []
    },
    {
      "cell_type": "markdown",
      "metadata": {
        "id": "R6SXOlP7Fkdr",
        "colab_type": "text"
      },
      "source": [
        "## Define the placeholders"
      ]
    },
    {
      "cell_type": "code",
      "metadata": {
        "id": "ySnUx5pKBPKO",
        "colab_type": "code",
        "colab": {}
      },
      "source": [
        "def placeholders(image_size, n_channels ):\n",
        "  inputs = tf.placeholder(dtype=tf.float32, shape=[None, image_size, image_size,n_channels], name='inputs')\n",
        "  targets = tf.placeholder(dtype=tf.float32, shape=[None, image_size, image_size, n_channels], name='targets')\n",
        "  return inputs, targets"
      ],
      "execution_count": 0,
      "outputs": []
    },
    {
      "cell_type": "markdown",
      "metadata": {
        "id": "mGh1yWxuFnt6",
        "colab_type": "text"
      },
      "source": [
        "## Define the model"
      ]
    },
    {
      "cell_type": "code",
      "metadata": {
        "id": "qGJIhPuzEs_b",
        "colab_type": "code",
        "colab": {}
      },
      "source": [
        "def encoder_decoder_network(X):\n",
        "  \n",
        "  #ENCODER NETOWRK\n",
        "  \n",
        "  # X's shape - 28*28*1\n",
        "  W1 = tf.get_variable(\"W1\", shape=[3,3,1,16], initializer=tf.contrib.layers.xavier_initializer(seed=0))\n",
        "  # 28*28*16 \n",
        "  conv1 = tf.nn.conv2d(X, W1, strides=[1,1,1,1], padding='SAME')\n",
        "  relu1 = tf.nn.relu(conv1)\n",
        "  #14*14*16\n",
        "  pool1 = tf.nn.max_pool(relu1, ksize=[1,2,2,1], strides=[1,2,2,1], padding='SAME')\n",
        "  \n",
        "  #14*14*8\n",
        "  W2 = tf.get_variable(\"W2\", shape=[3,3,16,8], initializer=tf.contrib.layers.xavier_initializer(seed=0))\n",
        "  conv2 = tf.nn.conv2d(pool1, W2, strides=[1,1,1,1], padding='SAME')\n",
        "  relu2 = tf.nn.relu(conv2)\n",
        "  #7*7*8\n",
        "  pool2 = tf.nn.max_pool(relu2, ksize=[1,2,2,1], strides=[1,2,2,1], padding='SAME')\n",
        "  #7*7*8\n",
        "  W3 = tf.get_variable(\"W3\", shape=[3,3,8,8], initializer=tf.contrib.layers.xavier_initializer(seed=0))\n",
        "  conv3 = tf.nn.conv2d(pool2, W3, strides=[1,1,1,1], padding='SAME')\n",
        "  relu3 = tf.nn.relu(conv3)\n",
        "  #4*4*8\n",
        "  pool3 = tf.nn.max_pool(relu3, ksize=[1,2,2,1], strides=[1,2,2,1], padding='SAME')\n",
        "  \n",
        "  encoded = pool3\n",
        "  \n",
        "  # the image is now 4*4*8 \n",
        "  \n",
        "  # Decoder network \n",
        "  \n",
        "  \n",
        "  upsample1 = tf.image.resize_nearest_neighbor(encoded, (7,7))\n",
        "  #7*7*8\n",
        "  W4 = tf.get_variable(\"W4\", shape=[3,3,8,8], initializer=tf.contrib.layers.xavier_initializer(seed=0))\n",
        "  conv4 = tf.nn.conv2d(upsample1, W4, strides=[1,1,1,1], padding='SAME')\n",
        "  relu4 = tf.nn.relu(conv4)\n",
        "  \n",
        "  upsample2 = tf.image.resize_nearest_neighbor(relu4, (14,14))\n",
        "  # 14*14*8\n",
        "  W5 = tf.get_variable(\"W5\", shape=[3,3,8,8], initializer=tf.contrib.layers.xavier_initializer(seed=0))\n",
        "  conv5 = tf.nn.conv2d(upsample2, W5, strides=[1,1,1,1], padding='SAME')\n",
        "  relu5 = tf.nn.relu(conv5)\n",
        "  \n",
        "  # 28*28*8\n",
        "  upsample3 = tf.image.resize_nearest_neighbor(relu5, (28,28))\n",
        "  \n",
        "  W6 = tf.get_variable(\"W6\", shape=[3,3,8,16], initializer=tf.contrib.layers.xavier_initializer(seed=0))\n",
        "  conv6 = tf.nn.conv2d(upsample3, W6, strides=[1,1,1,1], padding='SAME')\n",
        "  relu6 = tf.nn.relu(conv6)\n",
        "  \n",
        "  W7 = tf.get_variable(\"W7\", shape=[3,3,16,1], initializer=tf.contrib.layers.xavier_initializer(seed=0))\n",
        "  conv7 = tf.nn.conv2d(relu6, W7, strides=[1,1,1,1], padding='SAME')\n",
        "  \n",
        "  logits = conv7\n",
        "  \n",
        "  decoded = tf.nn.sigmoid(logits)\n",
        "  \n",
        "  return encoded, decoded, logits"
      ],
      "execution_count": 0,
      "outputs": []
    },
    {
      "cell_type": "markdown",
      "metadata": {
        "id": "Yno_PKzWFr4b",
        "colab_type": "text"
      },
      "source": [
        "## Define the training operations"
      ]
    },
    {
      "cell_type": "code",
      "metadata": {
        "id": "UctvR8DQABkq",
        "colab_type": "code",
        "colab": {}
      },
      "source": [
        "def train_operations(logits, targets, learning_rate):\n",
        "  loss = tf.reduce_mean(tf.nn.sigmoid_cross_entropy_with_logits(logits=logits, labels=targets))\n",
        "  training_op = tf.train.AdamOptimizer(learning_rate=learning_rate).minimize(loss)\n",
        "  \n",
        "  return loss, training_op\n",
        "  "
      ],
      "execution_count": 0,
      "outputs": []
    },
    {
      "cell_type": "markdown",
      "metadata": {
        "id": "Oq8zyJ42FvuU",
        "colab_type": "text"
      },
      "source": [
        "## Train the model"
      ]
    },
    {
      "cell_type": "code",
      "metadata": {
        "id": "NW0fC1MLAt62",
        "colab_type": "code",
        "colab": {}
      },
      "source": [
        "def train_model(epochs, image_size, n_channels, batch_size, learning_rate):\n",
        "  \n",
        "  tf.reset_default_graph()\n",
        "  inputs, targets = placeholders(image_size, n_channels)\n",
        "  encoded, decoded, logits = encoder_decoder_network(inputs)\n",
        "  loss, training_op = train_operations(logits, targets, learning_rate)\n",
        "  \n",
        "  with tf.Session() as sess:\n",
        "    sess.run(tf.global_variables_initializer())\n",
        "    for epoch in range(epochs):\n",
        "      epoch_loss = 0\n",
        "      for batch in range(mnist.train.num_examples//batch_size):\n",
        "        data = mnist.train.next_batch(batch_size)\n",
        "        images = data[0].reshape(-1, image_size,image_size,n_channels)\n",
        "        batch_loss, _ = sess.run([loss, training_op], feed_dict = {inputs:images, targets:images})\n",
        "        epoch_loss += batch_loss\n",
        "      print(\"Epoch {}/{}: Loss is {:.3f}\".format(epoch+1, epochs, epoch_loss))\n",
        "    print(\"Training over\\n\")\n",
        "    \n",
        "    print(\"Reconstructing test images from encoded images\")\n",
        "\n",
        "\n",
        "    test_images = mnist.test.images[:10]\n",
        "    test_images = test_images.reshape(-1, image_size, image_size, n_channels)\n",
        "    reconstructed = sess.run(decoded, feed_dict = {inputs:test_images, targets:test_images})\n",
        "    plot_images(test_images, reconstructed)"
      ],
      "execution_count": 0,
      "outputs": []
    },
    {
      "cell_type": "markdown",
      "metadata": {
        "id": "UdgzYmKtFzrz",
        "colab_type": "text"
      },
      "source": [
        "## Define the model parameters"
      ]
    },
    {
      "cell_type": "code",
      "metadata": {
        "id": "XcWO5F_KODjY",
        "colab_type": "code",
        "colab": {}
      },
      "source": [
        "epochs = 20\n",
        "batch_size = 200\n",
        "image_size = 28 \n",
        "n_channels = 1\n",
        "learning_rate = 0.001\n"
      ],
      "execution_count": 0,
      "outputs": []
    },
    {
      "cell_type": "markdown",
      "metadata": {
        "id": "c1sWAE0hF5KI",
        "colab_type": "text"
      },
      "source": [
        "## Run the model"
      ]
    },
    {
      "cell_type": "code",
      "metadata": {
        "id": "_6Y2k4BiCkia",
        "colab_type": "code",
        "colab": {
          "base_uri": "https://localhost:8080/",
          "height": 696
        },
        "outputId": "b8fbf0b0-2d25-45a1-dc5a-27847a477cc9"
      },
      "source": [
        "train_model(epochs=epochs, \n",
        "            batch_size=batch_size, \n",
        "            image_size=image_size, \n",
        "            n_channels= n_channels, \n",
        "            learning_rate = learning_rate)"
      ],
      "execution_count": 9,
      "outputs": [
        {
          "output_type": "stream",
          "text": [
            "W0622 21:29:21.782744 140662642526080 deprecation.py:323] From /usr/local/lib/python3.6/dist-packages/tensorflow/python/ops/nn_impl.py:180: add_dispatch_support.<locals>.wrapper (from tensorflow.python.ops.array_ops) is deprecated and will be removed in a future version.\n",
            "Instructions for updating:\n",
            "Use tf.where in 2.0, which has the same broadcast rule as np.where\n"
          ],
          "name": "stderr"
        },
        {
          "output_type": "stream",
          "text": [
            "Epoch 1/20: Loss is 70.720\n",
            "Epoch 2/20: Loss is 42.294\n",
            "Epoch 3/20: Loss is 37.771\n",
            "Epoch 4/20: Loss is 35.435\n",
            "Epoch 5/20: Loss is 33.994\n",
            "Epoch 6/20: Loss is 33.090\n",
            "Epoch 7/20: Loss is 32.429\n",
            "Epoch 8/20: Loss is 31.904\n",
            "Epoch 9/20: Loss is 31.442\n",
            "Epoch 10/20: Loss is 31.063\n",
            "Epoch 11/20: Loss is 30.731\n",
            "Epoch 12/20: Loss is 30.437\n",
            "Epoch 13/20: Loss is 30.185\n",
            "Epoch 14/20: Loss is 29.978\n",
            "Epoch 15/20: Loss is 29.792\n",
            "Epoch 16/20: Loss is 29.642\n",
            "Epoch 17/20: Loss is 29.473\n",
            "Epoch 18/20: Loss is 29.340\n",
            "Epoch 19/20: Loss is 29.230\n",
            "Epoch 20/20: Loss is 29.132\n",
            "Training over\n",
            "\n",
            "Reconstructing test images from encoded images\n"
          ],
          "name": "stdout"
        },
        {
          "output_type": "display_data",
          "data": {
            "image/png": "[encoded data removed]",
            "text/plain": [
              "<Figure size 864x288 with 20 Axes>"
            ]
          },
          "metadata": {
            "tags": []
          }
        }
      ]
    }
  ]
}