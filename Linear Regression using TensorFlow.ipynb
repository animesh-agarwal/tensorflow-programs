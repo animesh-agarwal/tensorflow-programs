{
 "cells": [
  {
   "cell_type": "code",
   "execution_count": 1,
   "metadata": {},
   "outputs": [],
   "source": [
    "import tensorflow as tf\n",
    "import numpy as np\n",
    "from datetime import datetime"
   ]
  },
  {
   "cell_type": "code",
   "execution_count": 2,
   "metadata": {},
   "outputs": [],
   "source": [
    "from sklearn.datasets import load_boston\n",
    "from sklearn.preprocessing import StandardScaler\n",
    "from sklearn.model_selection import train_test_split"
   ]
  },
  {
   "cell_type": "code",
   "execution_count": 5,
   "metadata": {},
   "outputs": [
    {
     "name": "stdout",
     "output_type": "stream",
     "text": [
      "(506, 13)\n",
      "(506, 1)\n"
     ]
    }
   ],
   "source": [
    "data, targets = load_boston(True)\n",
    "scaler = StandardScaler()\n",
    "scaled_data = scaler.fit_transform(data)\n",
    "targets = targets.reshape(-1,1)\n",
    "print(data.shape)\n",
    "print(targets.shape)"
   ]
  },
  {
   "cell_type": "code",
   "execution_count": 6,
   "metadata": {},
   "outputs": [],
   "source": [
    "now = datetime.utcnow().strftime(\"%Y%m%d%H%M%S\")\n",
    "root_dir = \"tf_logs_linear_regression\"\n",
    "log_dir = \"{}/run-{}\".format(root_dir,now)"
   ]
  },
  {
   "cell_type": "code",
   "execution_count": 7,
   "metadata": {},
   "outputs": [],
   "source": [
    "X_train, X_test, y_train, y_test = train_test_split(scaled_data, targets, test_size = 0.2, random_state=42)"
   ]
  },
  {
   "cell_type": "code",
   "execution_count": 8,
   "metadata": {},
   "outputs": [],
   "source": [
    "tf.reset_default_graph()\n",
    "X = tf.placeholder(dtype=tf.float32, shape=[None,13], name=\"X\")\n",
    "y = tf.placeholder(dtype=tf.float32, shape=[None,1], name=\"y\")\n",
    "W = tf.Variable(tf.random_uniform([13,1]), name=\"W\")\n",
    "b = tf.Variable(tf.random_uniform([1]), name=\"b\")\n",
    "\n",
    "y_pred = tf.matmul(X,W) + b\n",
    "\n",
    "with tf.name_scope(\"loss\") as scope:\n",
    "    error = y_pred - y\n",
    "    loss = tf.reduce_mean(tf.square(error), name=\"mse\")\n",
    "    \n",
    "training_op = tf.train.GradientDescentOptimizer(learning_rate=0.05).minimize(loss)\n",
    "loss_summary = tf.summary.scalar(\"MSE\", loss)\n",
    "file_writer = tf.summary.FileWriter(log_dir, tf.get_default_graph())"
   ]
  },
  {
   "cell_type": "code",
   "execution_count": 11,
   "metadata": {},
   "outputs": [
    {
     "name": "stdout",
     "output_type": "stream",
     "text": [
      "Epoch 0: Loss :599.7053833007812\n",
      "Epoch 100: Loss :21.922100067138672\n",
      "Epoch 200: Loss :21.697118759155273\n",
      "Epoch 300: Loss :21.656766891479492\n",
      "Epoch 400: Loss :21.645822525024414\n",
      "Epoch 500: Loss :21.642684936523438\n",
      "Epoch 600: Loss :21.64177894592285\n",
      "Epoch 700: Loss :21.641517639160156\n",
      "Epoch 800: Loss :21.641441345214844\n",
      "Epoch 900: Loss :21.641420364379883\n",
      "Epoch 1000: Loss :21.641414642333984\n",
      "Epoch 1100: Loss :21.641414642333984\n",
      "Epoch 1200: Loss :21.64141273498535\n",
      "Epoch 1300: Loss :21.641414642333984\n",
      "Epoch 1400: Loss :21.64141273498535\n",
      "Epoch 1500: Loss :21.641414642333984\n",
      "Epoch 1600: Loss :21.64141273498535\n",
      "Epoch 1700: Loss :21.64141082763672\n",
      "Epoch 1800: Loss :21.641414642333984\n",
      "Epoch 1900: Loss :21.64141082763672\n",
      "Training Complete\n"
     ]
    }
   ],
   "source": [
    "n_epochs = 2000\n",
    "with tf.Session() as sess:\n",
    "    sess.run(tf.global_variables_initializer())\n",
    "    for epoch in range(n_epochs):\n",
    "        epoch_loss, _ = sess.run([loss,training_op], feed_dict={X:X_train, y: y_train})\n",
    "        if epoch % 100 == 0:\n",
    "            mse_loss = sess.run(loss_summary, feed_dict={X:X_train, y: y_train})\n",
    "            file_writer.add_summary(mse_loss, epoch)\n",
    "            print(\"Epoch {}: Loss :{}\".format(epoch, epoch_loss))\n",
    "    \n",
    "    print(\"Training Complete\")\n",
    "    y_test_pred = sess.run(y_pred, feed_dict={X:X_test})\n",
    "    diff = y_test_pred.flatten() - y_test.flatten()\n",
    "    abs_diff = [abs(x) for x in diff]\n",
    "    \n",
    "file_writer.flush()\n",
    "file_writer.close()"
   ]
  }
 ],
 "metadata": {
  "kernelspec": {
   "display_name": "Python 3",
   "language": "python",
   "name": "python3"
  },
  "language_info": {
   "codemirror_mode": {
    "name": "ipython",
    "version": 3
   },
   "file_extension": ".py",
   "mimetype": "text/x-python",
   "name": "python",
   "nbconvert_exporter": "python",
   "pygments_lexer": "ipython3",
   "version": "3.5.4"
  }
 },
 "nbformat": 4,
 "nbformat_minor": 2
}
